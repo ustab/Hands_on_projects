{
  "nbformat": 4,
  "nbformat_minor": 0,
  "metadata": {
    "colab": {
      "private_outputs": true,
      "provenance": [],
      "authorship_tag": "ABX9TyMsp+ZlGjGCfEmSsxYaFLZm",
      "include_colab_link": true
    },
    "kernelspec": {
      "name": "python3",
      "display_name": "Python 3"
    },
    "language_info": {
      "name": "python"
    },
    "gpuClass": "standard"
  },
  "cells": [
    {
      "cell_type": "markdown",
      "metadata": {
        "id": "view-in-github",
        "colab_type": "text"
      },
      "source": [
        "<a href=\"https://colab.research.google.com/github/ustab/Hands_on_projects/blob/main/statistics_in_python.ipynb\" target=\"_parent\"><img src=\"https://colab.research.google.com/assets/colab-badge.svg\" alt=\"Open In Colab\"/></a>"
      ]
    },
    {
      "cell_type": "code",
      "source": [
        "import pandas as pd\n",
        "import numpy as np\n",
        "import seaborn as sns\n",
        "import statistics\n",
        "import matplotlib.pyplot as plt\n"
      ],
      "metadata": {
        "id": "zKoA1oXLnUhc"
      },
      "execution_count": null,
      "outputs": []
    },
    {
      "cell_type": "code",
      "execution_count": null,
      "metadata": {
        "id": "tUsFfLKAm61-"
      },
      "outputs": [],
      "source": [
        "dfp=pd.read_csv('/content/players.csv')"
      ]
    },
    {
      "cell_type": "code",
      "source": [
        "dfp.head()"
      ],
      "metadata": {
        "id": "n7Kf66BmnZMT"
      },
      "execution_count": null,
      "outputs": []
    },
    {
      "cell_type": "code",
      "source": [
        "dfl=pd.read_csv('/content/listings.csv')"
      ],
      "metadata": {
        "id": "cc7GZk1snLks"
      },
      "execution_count": null,
      "outputs": []
    },
    {
      "cell_type": "code",
      "source": [
        "dfl.head()"
      ],
      "metadata": {
        "id": "bUPWp64tnaxQ"
      },
      "execution_count": null,
      "outputs": []
    },
    {
      "cell_type": "code",
      "source": [
        "df.style.background_gradient(axis=0)  "
      ],
      "metadata": {
        "id": "GkOBGIQxp3Bz"
      },
      "execution_count": null,
      "outputs": []
    },
    {
      "cell_type": "code",
      "source": [
        "dfl['price'].describe().T"
      ],
      "metadata": {
        "id": "qJeW17XmodW-"
      },
      "execution_count": null,
      "outputs": []
    },
    {
      "cell_type": "code",
      "source": [
        "dfl.describe().T.style.background_gradient()"
      ],
      "metadata": {
        "id": "j8Ycr6nqqePb"
      },
      "execution_count": null,
      "outputs": []
    },
    {
      "cell_type": "code",
      "source": [
        "dfl.boxplot(column=['price'])"
      ],
      "metadata": {
        "id": "-Nkf_oM8D658"
      },
      "execution_count": null,
      "outputs": []
    },
    {
      "cell_type": "code",
      "source": [
        "dfl.groupby('room_type').size().plot(kind='bar');"
      ],
      "metadata": {
        "id": "ZU68MZj6Ep8t"
      },
      "execution_count": null,
      "outputs": []
    },
    {
      "cell_type": "code",
      "source": [
        "statistics.mean(dfl['price'])"
      ],
      "metadata": {
        "id": "Sqc4GnpfGZKh"
      },
      "execution_count": null,
      "outputs": []
    },
    {
      "cell_type": "code",
      "source": [
        "statistics.mean(dfl['number_of_reviews'])"
      ],
      "metadata": {
        "id": "4U0D2FjxGjnD"
      },
      "execution_count": null,
      "outputs": []
    },
    {
      "cell_type": "code",
      "source": [
        "statistics.median(dfl['number_of_reviews'])"
      ],
      "metadata": {
        "id": "7cLig732JxV_"
      },
      "execution_count": null,
      "outputs": []
    },
    {
      "cell_type": "code",
      "source": [
        "statistics.median_low(dfl['number_of_reviews'])"
      ],
      "metadata": {
        "id": "DLP_WiAyJ2pl"
      },
      "execution_count": null,
      "outputs": []
    },
    {
      "cell_type": "code",
      "source": [
        "dfl.std()"
      ],
      "metadata": {
        "id": "qk_Jz4AcKZdV"
      },
      "execution_count": null,
      "outputs": []
    },
    {
      "cell_type": "code",
      "source": [
        "statistics.stdev(dfl['number_of_reviews'])"
      ],
      "metadata": {
        "id": "ptJsJ69gKubA"
      },
      "execution_count": null,
      "outputs": []
    },
    {
      "cell_type": "code",
      "source": [
        "column1=dfp['salary']\n",
        "column2=dfp['rating']\n",
        "correlation=column1.corr(column2)\n",
        "correlation"
      ],
      "metadata": {
        "id": "fMS3Rk3-Uc-y"
      },
      "execution_count": null,
      "outputs": []
    },
    {
      "cell_type": "code",
      "source": [
        "dfp['salary'].var()"
      ],
      "metadata": {
        "id": "VBEElCS1VfKd"
      },
      "execution_count": null,
      "outputs": []
    },
    {
      "cell_type": "code",
      "source": [
        "dfl.corr()"
      ],
      "metadata": {
        "id": "R_CDtDFPV31_"
      },
      "execution_count": null,
      "outputs": []
    },
    {
      "cell_type": "code",
      "source": [
        "corr = dfl.corr()\n",
        "sns.heatmap(corr, annot=True, fmt=\".1f\")\n",
        "#sns.heatmap(corr, annot=True)\n",
        "#sns.heatmap(corr, annot = True,linewidth=2, cmap='viridis')\n",
        "# fig = plt.figure(figsize=(16,16))\n",
        "plt.figure(figsize=[15,14])\n",
        "plt.show()"
      ],
      "metadata": {
        "id": "FeBrA-qPWfDR"
      },
      "execution_count": null,
      "outputs": []
    },
    {
      "cell_type": "code",
      "source": [
        "dfp.columns"
      ],
      "metadata": {
        "id": "UL-S_f6KebBC"
      },
      "execution_count": null,
      "outputs": []
    },
    {
      "cell_type": "code",
      "source": [
        "dfp['rating'].plot.barh()\n",
        "plt.xlabel('rating')\n",
        "plt.ylabel('number of instances')"
      ],
      "metadata": {
        "id": "vj9e2XNOcTgh"
      },
      "execution_count": null,
      "outputs": []
    },
    {
      "cell_type": "code",
      "source": [
        "dfl.groupby('room_type').size().plot(kind='pie', autopct='%1.1f%%')\n",
        "plt.title('room_type')\n",
        "plt.ylabel('')"
      ],
      "metadata": {
        "id": "Wrw-aNrxfCl7"
      },
      "execution_count": null,
      "outputs": []
    },
    {
      "cell_type": "code",
      "source": [
        "correlation=dfl[['latitude',\t'longitude',\t'price',\t'minimum_nights',\t'number_of_reviews',\t'reviews_per_month',\t'calculated_host_listings_count',\t'availability_365']].corr()"
      ],
      "metadata": {
        "id": "Ln02jioHifXJ"
      },
      "execution_count": null,
      "outputs": []
    },
    {
      "cell_type": "code",
      "source": [
        "sns.heatmap(correlation,annot=True, cmap='BuPu', linewidth=2, fmt=\".1f\")\n",
        "plt.figure(figsize=(26,20))"
      ],
      "metadata": {
        "id": "md863MyYjjhE"
      },
      "execution_count": null,
      "outputs": []
    },
    {
      "cell_type": "code",
      "source": [
        "dfl.plot.scatter(x=\"longitude\", y=\"latitude\", alpha=0.1, label=\"AirBnB Amsterdam\")"
      ],
      "metadata": {
        "id": "tWhgcMw_oRLN"
      },
      "execution_count": null,
      "outputs": []
    }
  ]
}